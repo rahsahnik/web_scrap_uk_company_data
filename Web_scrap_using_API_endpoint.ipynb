{
 "cells": [
  {
   "cell_type": "code",
   "execution_count": 1,
   "id": "d60ed6ff",
   "metadata": {},
   "outputs": [],
   "source": [
    "import pandas as pd\n",
    "import requests"
   ]
  },
  {
   "cell_type": "code",
   "execution_count": 2,
   "id": "a2759af0",
   "metadata": {},
   "outputs": [
    {
     "name": "stdout",
     "output_type": "stream",
     "text": [
      "232362\n"
     ]
    }
   ],
   "source": [
    "url = \"https://www.ajio.com/api/category/830216001\"\n",
    "\n",
    "querystring = {\"fields\":\"SITE\",\"currentPage\":\"1\",\"pageSize\":\"45\",\"format\":\"json\",\"query\":\"^%^3Arelevance\",\"sortBy\":\"relevance\",\"gridColumns\":\"3\",\"advfilter\":\"true\",\"platform\":\"Desktop\",\"showAdsOnNextPage\":\"false\",\"is_ads_enable_plp\":\"false\"}\n",
    "\n",
    "payload = \"\"\n",
    "headers = {\n",
    "    \"cookie\": \"TS014a283e=01ef61aed0f858eb4a96aff06d54c621769a5d3a3234f417f853b77c1903aee42c96a6f91f720e50e7efa8a5b913543d8314d7e334\",\n",
    "    \"Accept-Language\": \"en-US,en;q=0.9\",\n",
    "    \"Connection\": \"keep-alive\",\n",
    "    \"Cookie\": \"V=201; _fp=655484a3761900d2a844c0a0c0e75259; TS014a283e=01ef61aed04c737c317cf893901aa61fceb061fc190c3fe24e662c7f2c23f69dc0afaadfa51c57e5ed0813231c175a2935f03231a2; g_state=^{^\\^i_p^^:1657274885341,^\\^i_l^^:1^}\",\n",
    "    \"Referer\": \"https://www.ajio.com/men-jeans/c/830216001\",\n",
    "    \"Sec-Fetch-Dest\": \"empty\",\n",
    "    \"Sec-Fetch-Mode\": \"cors\",\n",
    "    \"Sec-Fetch-Site\": \"same-origin\",\n",
    "    \"Sec-GPC\": \"1\",\n",
    "    \"User-Agent\": \"Mozilla/5.0 (Windows NT 10.0; Win64; x64) AppleWebKit/537.36 (KHTML, like Gecko) Chrome/103.0.5060.114 Safari/537.36\",\n",
    "    \"accept\": \"application/json\"\n",
    "}\n",
    "\n",
    "response = requests.request(\"GET\", url, data=payload, headers=headers, params=querystring)\n",
    "\n",
    "print(len(response.text))"
   ]
  },
  {
   "cell_type": "code",
   "execution_count": 5,
   "id": "2be74cd9",
   "metadata": {},
   "outputs": [],
   "source": [
    "res=response.json()"
   ]
  },
  {
   "cell_type": "code",
   "execution_count": 54,
   "id": "143fdbf1",
   "metadata": {},
   "outputs": [
    {
     "name": "stdout",
     "output_type": "stream",
     "text": [
      "Total products on this page is:  45 \n"
     ]
    }
   ],
   "source": [
    "c=0\n",
    "data=[]\n",
    "for i in res[\"products\"]:\n",
    "    Product_code =i[\"code\"]  \n",
    "    Brand_Name = i[\"fnlColorVariantData\"][\"brandName\"]    \n",
    "    MRP =i[\"price\"][\"value\"]\n",
    "    Discount =i[\"discountPercent\"]\n",
    "    Previous_Price= i[\"wasPriceData\"][\"value\"]\n",
    "    Offered_Price =i[\"offerPrice\"][\"value\"]\n",
    "    \n",
    "    data.append({\"Product_code\" :i[\"code\"],  \"Brand_Name\" : i[\"fnlColorVariantData\"][\"brandName\"] , \"MRP\" :i[\"price\"][\"value\"],\n",
    "                 \"Discount\":i[\"discountPercent\"], \"Previous_Price\":i[\"wasPriceData\"][\"value\"],\"Offered_Price\" :i[\"offerPrice\"][\"value\"]})\n",
    "    \n",
    "    c+=1;\n",
    "    if c==10:\n",
    "        #print(data)\n",
    "        print(f'Total products on this page is:  {len(res[\"products\"])} ')\n",
    "        break"
   ]
  },
  {
   "cell_type": "code",
   "execution_count": 63,
   "id": "22cddfbd",
   "metadata": {},
   "outputs": [
    {
     "data": {
      "text/html": [
       "<div>\n",
       "<style scoped>\n",
       "    .dataframe tbody tr th:only-of-type {\n",
       "        vertical-align: middle;\n",
       "    }\n",
       "\n",
       "    .dataframe tbody tr th {\n",
       "        vertical-align: top;\n",
       "    }\n",
       "\n",
       "    .dataframe thead th {\n",
       "        text-align: right;\n",
       "    }\n",
       "</style>\n",
       "<table border=\"1\" class=\"dataframe\">\n",
       "  <thead>\n",
       "    <tr style=\"text-align: right;\">\n",
       "      <th></th>\n",
       "      <th>Product_code</th>\n",
       "      <th>Brand_Name</th>\n",
       "      <th>MRP</th>\n",
       "      <th>Discount</th>\n",
       "      <th>Previous_Price</th>\n",
       "      <th>Offered_Price</th>\n",
       "    </tr>\n",
       "  </thead>\n",
       "  <tbody>\n",
       "    <tr>\n",
       "      <th>0</th>\n",
       "      <td>460827892005</td>\n",
       "      <td>The Indian Garage Co</td>\n",
       "      <td>759</td>\n",
       "      <td>67% off</td>\n",
       "      <td>2299</td>\n",
       "      <td>644</td>\n",
       "    </tr>\n",
       "    <tr>\n",
       "      <th>1</th>\n",
       "      <td>441038480001</td>\n",
       "      <td>DNMX</td>\n",
       "      <td>639</td>\n",
       "      <td>20% off</td>\n",
       "      <td>799</td>\n",
       "      <td>638</td>\n",
       "    </tr>\n",
       "    <tr>\n",
       "      <th>2</th>\n",
       "      <td>469079346005</td>\n",
       "      <td>U.S. Polo Assn.</td>\n",
       "      <td>1025</td>\n",
       "      <td>59% off</td>\n",
       "      <td>2499</td>\n",
       "      <td>1000</td>\n",
       "    </tr>\n",
       "    <tr>\n",
       "      <th>3</th>\n",
       "      <td>461190947004</td>\n",
       "      <td>Campus Sutra</td>\n",
       "      <td>950</td>\n",
       "      <td>50% off</td>\n",
       "      <td>1899</td>\n",
       "      <td>779</td>\n",
       "    </tr>\n",
       "  </tbody>\n",
       "</table>\n",
       "</div>"
      ],
      "text/plain": [
       "   Product_code            Brand_Name   MRP Discount  Previous_Price  \\\n",
       "0  460827892005  The Indian Garage Co   759  67% off            2299   \n",
       "1  441038480001                  DNMX   639  20% off             799   \n",
       "2  469079346005       U.S. Polo Assn.  1025  59% off            2499   \n",
       "3  461190947004          Campus Sutra   950  50% off            1899   \n",
       "\n",
       "   Offered_Price  \n",
       "0            644  \n",
       "1            638  \n",
       "2           1000  \n",
       "3            779  "
      ]
     },
     "execution_count": 63,
     "metadata": {},
     "output_type": "execute_result"
    }
   ],
   "source": [
    "df=pd.json_normalize(data)\n",
    "df.head(4)"
   ]
  },
  {
   "cell_type": "code",
   "execution_count": 70,
   "id": "7e5f1b7b",
   "metadata": {},
   "outputs": [
    {
     "name": "stdout",
     "output_type": "stream",
     "text": [
      "<class 'pandas.core.frame.DataFrame'>\n",
      "RangeIndex: 10 entries, 0 to 9\n",
      "Data columns (total 6 columns):\n",
      " #   Column          Non-Null Count  Dtype \n",
      "---  ------          --------------  ----- \n",
      " 0   Product_code    10 non-null     object\n",
      " 1   Brand_Name      10 non-null     object\n",
      " 2   MRP             10 non-null     int64 \n",
      " 3   Discount        10 non-null     object\n",
      " 4   Previous_Price  10 non-null     int64 \n",
      " 5   Offered_Price   10 non-null     int64 \n",
      "dtypes: int64(3), object(3)\n",
      "memory usage: 608.0+ bytes\n"
     ]
    }
   ],
   "source": [
    "#df.sort_values(\"Product_code\",ascending='True')\n",
    "df.info()\n",
    "df[\"MRP\"]=df[\"MRP\"].astype('int')"
   ]
  },
  {
   "cell_type": "code",
   "execution_count": 72,
   "id": "c440ab9e",
   "metadata": {},
   "outputs": [
    {
     "name": "stdout",
     "output_type": "stream",
     "text": [
      "<class 'pandas.core.frame.DataFrame'>\n",
      "RangeIndex: 10 entries, 0 to 9\n",
      "Data columns (total 6 columns):\n",
      " #   Column          Non-Null Count  Dtype \n",
      "---  ------          --------------  ----- \n",
      " 0   Product_code    10 non-null     object\n",
      " 1   Brand_Name      10 non-null     object\n",
      " 2   MRP             10 non-null     int32 \n",
      " 3   Discount        10 non-null     object\n",
      " 4   Previous_Price  10 non-null     int64 \n",
      " 5   Offered_Price   10 non-null     int64 \n",
      "dtypes: int32(1), int64(2), object(3)\n",
      "memory usage: 568.0+ bytes\n"
     ]
    }
   ],
   "source": [
    "df.info()"
   ]
  },
  {
   "cell_type": "code",
   "execution_count": null,
   "id": "317ed2b1",
   "metadata": {},
   "outputs": [],
   "source": []
  }
 ],
 "metadata": {
  "kernelspec": {
   "display_name": "Python 3 (ipykernel)",
   "language": "python",
   "name": "python3"
  },
  "language_info": {
   "codemirror_mode": {
    "name": "ipython",
    "version": 3
   },
   "file_extension": ".py",
   "mimetype": "text/x-python",
   "name": "python",
   "nbconvert_exporter": "python",
   "pygments_lexer": "ipython3",
   "version": "3.9.7"
  }
 },
 "nbformat": 4,
 "nbformat_minor": 5
}
