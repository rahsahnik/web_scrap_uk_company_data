{
 "cells": [
  {
   "cell_type": "code",
   "execution_count": 17,
   "id": "d60ed6ff",
   "metadata": {},
   "outputs": [],
   "source": [
    "from bs4 import BeautifulSoup\n",
    "import pandas as pd\n",
    "import requests\n",
    "from openpyxl import Workbook\n",
    "import csv\n",
    "\n",
    "import tkinter as tk\n",
    "from tkinter import filedialog\n",
    "import sys"
   ]
  },
  {
   "cell_type": "code",
   "execution_count": 21,
   "id": "121d75ef",
   "metadata": {},
   "outputs": [
    {
     "name": "stdout",
     "output_type": "stream",
     "text": [
      "     13154223\n",
      "0    00000140\n",
      "1  GB10659400\n",
      "2    10659400\n"
     ]
    }
   ],
   "source": [
    "# root = tk.Tk()\n",
    "# root.withdraw()\n",
    "\n",
    "# file_path = filedialog.askopenfilename()\n",
    "# df=pd.read_excel(file_path)\n",
    "# print(df)\n"
   ]
  },
  {
   "cell_type": "code",
   "execution_count": 36,
   "id": "ec058071",
   "metadata": {},
   "outputs": [
    {
     "name": "stdout",
     "output_type": "stream",
     "text": [
      "[('13154223', 'LCR VEHICLE SERVICE LTD', 'Unit 21 Novers Hill, Bedminster, Bristol, England, BS3 5QE', 'Active', 'Private limited Company', '25 January 2021', '45200', 'Maintenance and repair of motor vehicles'), ('00000140', 'N & C BUILDING PRODUCTS LIMITED', '41-51 Freshwater Road, Chadwell Heath, Romford, Essex, RM8 1SP', 'Active', 'Private limited Company', '30 September 1856', '20301', 'Manufacture of paints, varnishes and similar coatings, mastics and sealants'), ('GB10659400', 'Name Not found', '-', '-', '-', '-', '-', '-')]\n"
     ]
    }
   ],
   "source": [
    "brn=['13154223','00000140','GB10659400']\n",
    "# root = tk.Tk()\n",
    "# root.withdraw()\n",
    "# root.focus_force()\n",
    "# file_path = filedialog.askopenfilename()\n",
    "\n",
    "# df=pd.read_excel(file_path,header=None, index_col=None)\n",
    "# brn=df[0].to_list()\n",
    "\n",
    "url = \"https://find-and-update.company-information.service.gov.uk/company/\"\n",
    "\n",
    "payload={}\n",
    "headers = {\n",
    "  'Cookie': 'sft=; __SID=FzSQ7jgDojjXS6l4+FcK2ufAVC3HFZ6So2dYweYBrKXAoryd42K6EQM'\n",
    "}\n",
    "response=[]\n",
    "company_details=[]\n",
    "for i in brn:\n",
    "        response=requests.request(\"GET\", url+str(i), headers=headers, data=payload)\n",
    "        if response.status_code==200:\n",
    "            soup = BeautifulSoup(response.content, 'html.parser')\n",
    "            \n",
    "            #fetching the name of company\n",
    "            name = (soup.find('p', {'class': 'heading-xlarge'}).text.strip())\n",
    "            \n",
    "            #fetching the ADDRESS, STATUS, TYPE at once\n",
    "            details=soup.find('div',{'class':'govuk-tabs__panel'}).find_all('dd' ,{'class':'text data'})\n",
    "            \n",
    "            \n",
    "            reg_address=details[0].text.strip()\n",
    "            status=details[1].text.strip()\n",
    "            company_type=details[2].text.strip()\n",
    "            \n",
    "            #fetching the Date of Incorporation\n",
    "            doi=soup.find('dd',{'id':'company-creation-date'}).text.strip()\n",
    "            \n",
    "            #fetching the Nature of business\n",
    "            business=soup.find('span',{'id':'sic0'}).text.strip()\n",
    "            #business_list=[i.text.strip() for i in business_all]\n",
    "            #business=\",\".join(business_list)\n",
    "            indus_code=business.split('-')[0].strip()\n",
    "            indus_type=business.split('-')[1].strip()\n",
    "            \n",
    "            #status_temp= soup.find('div',{'class':'govuk-tabs__panel'}).find('div',{'class':'grid-row'})\n",
    "            #status=status_temp.find('dd' ,{'class':'text data'}).text.strip()\n",
    "            \n",
    "        else:\n",
    "            name=\"Name Not found\"\n",
    "            reg_address=\"-\"\n",
    "            status= \"-\"\n",
    "            company_type=\"-\"\n",
    "            doi=\"-\"\n",
    "            indus_code=\"-\"\n",
    "            indus_type=\"-\"\n",
    "            \n",
    "        temp=(i,name,reg_address,status,company_type,doi,indus_code,indus_type)\n",
    "        company_details.append(temp)\n",
    "        \n",
    "        \n",
    "print(company_details)\n",
    "\n",
    "\n",
    "#print(len(response.text))\n",
    "#print(response.text)\n",
    "\n"
   ]
  },
  {
   "cell_type": "code",
   "execution_count": 39,
   "id": "2bd5ae5f",
   "metadata": {},
   "outputs": [],
   "source": [
    "with open(\"amex.csv\",\"w\",newline='') as fp:\n",
    "    writer=csv.writer(fp)\n",
    "    writer.writerow(['BRN','Legal_name','reg_address','status','company_type','doi','indus_code','indus_type'])\n",
    "    writer.writerows(company_details)"
   ]
  },
  {
   "cell_type": "code",
   "execution_count": 40,
   "id": "18c0d997",
   "metadata": {},
   "outputs": [],
   "source": [
    "wb = Workbook() # creates a workbook object.\n",
    "ws = wb.active # creates a worksheet object.\n",
    "ws.append(['BRN','Legal_name','reg_address','status','company_type','doi','indus_code','indus_type'])\n",
    "for row in company_details:\n",
    "    ws.append(row) # adds values to cells, each list is a new row.\n",
    "\n",
    "wb.save('company-data.xlsx') # save to excel file."
   ]
  },
  {
   "cell_type": "code",
   "execution_count": 33,
   "id": "b3993fca",
   "metadata": {},
   "outputs": [
    {
     "data": {
      "text/plain": [
       "' ram'"
      ]
     },
     "execution_count": 33,
     "metadata": {},
     "output_type": "execute_result"
    }
   ],
   "source": [
    "x=[]\"10 - ram\"\n",
    "x.split('-')[1]"
   ]
  },
  {
   "cell_type": "code",
   "execution_count": null,
   "id": "01862c80",
   "metadata": {},
   "outputs": [],
   "source": [
    "response.text"
   ]
  },
  {
   "cell_type": "code",
   "execution_count": null,
   "id": "9a75fc2b",
   "metadata": {},
   "outputs": [],
   "source": []
  }
 ],
 "metadata": {
  "kernelspec": {
   "display_name": "Python 3 (ipykernel)",
   "language": "python",
   "name": "python3"
  },
  "language_info": {
   "codemirror_mode": {
    "name": "ipython",
    "version": 3
   },
   "file_extension": ".py",
   "mimetype": "text/x-python",
   "name": "python",
   "nbconvert_exporter": "python",
   "pygments_lexer": "ipython3",
   "version": "3.9.7"
  }
 },
 "nbformat": 4,
 "nbformat_minor": 5
}
